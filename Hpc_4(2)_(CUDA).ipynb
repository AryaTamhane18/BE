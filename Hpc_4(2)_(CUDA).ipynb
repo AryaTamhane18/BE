{
  "nbformat": 4,
  "nbformat_minor": 0,
  "metadata": {
    "colab": {
      "provenance": [],
      "gpuType": "T4"
    },
    "kernelspec": {
      "name": "python3",
      "display_name": "Python 3"
    },
    "language_info": {
      "name": "python"
    },
    "accelerator": "GPU"
  },
  "cells": [
    {
      "cell_type": "code",
      "execution_count": 31,
      "metadata": {
        "colab": {
          "base_uri": "https://localhost:8080/"
        },
        "id": "8qd9lbJdPXVI",
        "outputId": "39d67a4c-f23a-4fc0-fa59-38eed6384972"
      },
      "outputs": [
        {
          "output_type": "stream",
          "name": "stdout",
          "text": [
            "nvcc: NVIDIA (R) Cuda compiler driver\n",
            "Copyright (c) 2005-2023 NVIDIA Corporation\n",
            "Built on Tue_Aug_15_22:02:13_PDT_2023\n",
            "Cuda compilation tools, release 12.2, V12.2.140\n",
            "Build cuda_12.2.r12.2/compiler.33191640_0\n"
          ]
        }
      ],
      "source": [
        "# Check CUDA version\n",
        "!nvcc --version\n"
      ]
    },
    {
      "cell_type": "code",
      "source": [
        "# Install CUDA package\n",
        "!pip install git+https://github.com/afnan47/cuda.git"
      ],
      "metadata": {
        "colab": {
          "base_uri": "https://localhost:8080/"
        },
        "id": "pdv50hb1PhHP",
        "outputId": "07045acf-ebb5-49d3-c48e-0f691f71115b"
      },
      "execution_count": 32,
      "outputs": [
        {
          "output_type": "stream",
          "name": "stdout",
          "text": [
            "Collecting git+https://github.com/afnan47/cuda.git\n",
            "  Cloning https://github.com/afnan47/cuda.git to /tmp/pip-req-build-aa7mu_o7\n",
            "  Running command git clone --filter=blob:none --quiet https://github.com/afnan47/cuda.git /tmp/pip-req-build-aa7mu_o7\n",
            "  Resolved https://github.com/afnan47/cuda.git to commit aac710a35f52bb78ab34d2e52517237941399eff\n",
            "  Preparing metadata (setup.py) ... \u001b[?25l\u001b[?25hdone\n"
          ]
        }
      ]
    },
    {
      "cell_type": "code",
      "source": [
        "# Load nvcc plugin\n",
        "%load_ext nvcc_plugin"
      ],
      "metadata": {
        "colab": {
          "base_uri": "https://localhost:8080/"
        },
        "id": "lVnp1giEPlbA",
        "outputId": "85d6de6c-8859-4910-cd30-5c6f571da13d"
      },
      "execution_count": 33,
      "outputs": [
        {
          "output_type": "stream",
          "name": "stdout",
          "text": [
            "The nvcc_plugin extension is already loaded. To reload it, use:\n",
            "  %reload_ext nvcc_plugin\n"
          ]
        }
      ]
    },
    {
      "cell_type": "code",
      "source": [
        "%%writefile matrix_mult.cu\n",
        "#include<stdio.h>\n",
        "#include<cuda_runtime.h>\n",
        "\n",
        "__global__ void matproduct(int *l, int *m, int *n, int row1, int col1, int row2, int col2)\n",
        "{\n",
        "    int x = blockIdx.x;\n",
        "    int y = blockIdx.y;\n",
        "    int k;\n",
        "\n",
        "    n[col2*y+x] = 0;\n",
        "    for(k = 0; k < col1; k++)\n",
        "    {\n",
        "        n[col2*y+x] += l[col1*y+k] * m[col2*k+x];\n",
        "    }\n",
        "}\n",
        "\n",
        "int main()\n",
        "{\n",
        "    int row1, row2, col1, col2;\n",
        "\n",
        "    printf(\"Enter the number of rows in matrix 1: \");\n",
        "    scanf(\"%d\", &row1);\n",
        "\n",
        "    printf(\"Enter the number of columns in matrix 1: \");\n",
        "    scanf(\"%d\", &col1);\n",
        "\n",
        "    printf(\"Enter the number of rows in matrix 2: \");\n",
        "    scanf(\"%d\", &row2);\n",
        "\n",
        "    printf(\"Enter the number of columns in matrix 2: \");\n",
        "    scanf(\"%d\", &col2);\n",
        "\n",
        "    printf(\"\\n\");\n",
        "\n",
        "    int a[row1][col1];\n",
        "    int b[row2][col2];\n",
        "    int c[row1][col2];\n",
        "    int *d, *e, *f;\n",
        "    int i, j;\n",
        "\n",
        "    printf(\"\\nEnter elements of first matrix:\\n\");\n",
        "    for(i = 0; i < row1; i++)\n",
        "    {\n",
        "        for(j = 0; j < col1; j++)\n",
        "        {\n",
        "            scanf(\"%d\", &a[i][j]);\n",
        "        }\n",
        "    }\n",
        "\n",
        "    printf(\"\\nEnter elements of second matrix:\\n\");\n",
        "    for(i = 0; i < row2; i++)\n",
        "    {\n",
        "        for(j = 0; j < col2; j++)\n",
        "        {\n",
        "            scanf(\"%d\", &b[i][j]);\n",
        "        }\n",
        "    }\n",
        "\n",
        "    cudaMalloc((void **)&d, row1 * col1 * sizeof(int));\n",
        "    cudaMalloc((void **)&e, row2 * col2 * sizeof(int));\n",
        "    cudaMalloc((void **)&f, row1 * col2 * sizeof(int));\n",
        "\n",
        "    cudaMemcpy(d, a, row1 * col1 * sizeof(int), cudaMemcpyHostToDevice);\n",
        "    cudaMemcpy(e, b, row2 * col2 * sizeof(int), cudaMemcpyHostToDevice);\n",
        "\n",
        "    dim3 grid(col2, row1);\n",
        "\n",
        "    matproduct<<<grid, 1>>>(d, e, f, row1, col1, row2, col2);\n",
        "\n",
        "    cudaMemcpy(c, f, row1 * col2 * sizeof(int), cudaMemcpyDeviceToHost);\n",
        "\n",
        "    printf(\"\\nProduct of two matrices:\\n\");\n",
        "    for(i = 0; i < row1; i++)\n",
        "    {\n",
        "        for(j = 0; j < col2; j++)\n",
        "        {\n",
        "            printf(\"%d\\t\", c[i][j]);\n",
        "        }\n",
        "        printf(\"\\n\");\n",
        "    }\n",
        "\n",
        "    cudaFree(d);\n",
        "    cudaFree(e);\n",
        "    cudaFree(f);\n",
        "\n",
        "    return 0;\n",
        "}\n"
      ],
      "metadata": {
        "colab": {
          "base_uri": "https://localhost:8080/"
        },
        "id": "sqvsAI59Pq6z",
        "outputId": "000a4b2c-3b2e-452e-b449-1fd7df60d6a5"
      },
      "execution_count": 34,
      "outputs": [
        {
          "output_type": "stream",
          "name": "stdout",
          "text": [
            "Overwriting matrix_mult.cu\n"
          ]
        }
      ]
    },
    {
      "cell_type": "code",
      "source": [
        "!nvcc matrix_mult.cu -o matrix_mult\n",
        "!./matrix_mult"
      ],
      "metadata": {
        "colab": {
          "base_uri": "https://localhost:8080/"
        },
        "id": "hrzsose5QEe9",
        "outputId": "c61b417b-7dbc-44e1-9551-6d73bc1b1411"
      },
      "execution_count": 35,
      "outputs": [
        {
          "output_type": "stream",
          "name": "stdout",
          "text": [
            "Enter the number of rows in matrix 1: 2\n",
            "Enter the number of columns in matrix 1: 2\n",
            "Enter the number of rows in matrix 2: 2\n",
            "Enter the number of columns in matrix 2: 2\n",
            "\n",
            "\n",
            "Enter elements of first matrix:\n",
            "1\n",
            "2\n",
            "3\n",
            "4\n",
            "\n",
            "Enter elements of second matrix:\n",
            "5\n",
            "4\n",
            "1\n",
            "2\n",
            "\n",
            "Product of two matrices:\n",
            "7\t8\t\n",
            "19\t20\t\n"
          ]
        }
      ]
    }
  ]
}