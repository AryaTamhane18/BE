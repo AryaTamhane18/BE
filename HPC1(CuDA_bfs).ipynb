{
  "nbformat": 4,
  "nbformat_minor": 0,
  "metadata": {
    "colab": {
      "provenance": []
    },
    "kernelspec": {
      "name": "python3",
      "display_name": "Python 3"
    },
    "language_info": {
      "name": "python"
    }
  },
  "cells": [
    {
      "cell_type": "code",
      "execution_count": 3,
      "metadata": {
        "colab": {
          "base_uri": "https://localhost:8080/"
        },
        "id": "ZtO1e0LG-JDu",
        "outputId": "e076bdf1-ba3d-4f04-c93d-4500789b97e5"
      },
      "outputs": [
        {
          "output_type": "stream",
          "name": "stdout",
          "text": [
            "Writing breadthfirst.cu\n"
          ]
        }
      ],
      "source": [
        "%%writefile breadthfirst.cu\n",
        "#include <iostream>\n",
        "#include <queue>\n",
        "#include <vector>\n",
        "#include <omp.h>\n",
        "using namespace std;\n",
        "int main() {\n",
        "int num_vertices, num_edges, source;\n",
        "cout << \"Enter number of vertices, edges, and source node: \";\n",
        "cin >> num_vertices >> num_edges >> source;\n",
        "// Input validation\n",
        "if (source < 1 || source > num_vertices) {\n",
        "cout << \"Invalid source node!\" << endl;\n",
        "return 1;\n",
        "}\n",
        "vector<vector<int>> adj_list(num_vertices + 1);\n",
        "for (int i = 0; i < num_edges; i++) {\n",
        "int u, v;\n",
        "cin >> u >> v;\n",
        "// Input validation for edges\n",
        "if (u < 1 || u > num_vertices || v < 1 || v > num_vertices) {\n",
        "cout << \"Invalid edge: \" << u << \" \" << v << endl;\n",
        "return 1;\n",
        "}\n",
        "adj_list[u].push_back(v);\n",
        "adj_list[v].push_back(u);\n",
        "}\n",
        "queue<int> q;\n",
        "vector<bool> visited(num_vertices + 1, false);\n",
        "q.push(source);\n",
        "visited[source] = true;\n",
        "while (!q.empty()) {\n",
        "int curr_vertex = q.front();\n",
        "q.pop();\n",
        "cout << curr_vertex << \" \";\n",
        "// Sequential loop for neighbors\n",
        "for (int i = 0; i < adj_list[curr_vertex].size(); i++) {\n",
        "int neighbour = adj_list[curr_vertex][i];\n",
        "if (!visited[neighbour]) {\n",
        "visited[neighbour] = true;\n",
        "q.push(neighbour);\n",
        "}\n",
        "}\n",
        "}\n",
        "cout << endl;\n",
        "return 0;\n",
        "}"
      ]
    },
    {
      "cell_type": "code",
      "source": [
        "!nvcc breadthfirst.cu -o breadthfirst\n",
        "!./breadthfirst"
      ],
      "metadata": {
        "colab": {
          "base_uri": "https://localhost:8080/"
        },
        "id": "RkNlzFLG-syh",
        "outputId": "323dcb30-e2c2-4b0b-be6a-edd45571cf78"
      },
      "execution_count": 8,
      "outputs": [
        {
          "output_type": "stream",
          "name": "stdout",
          "text": [
            "Enter number of vertices, edges, and source node: 7 6 1\n",
            "1 2\n",
            "1 3\n",
            "2 4\n",
            "2 5\n",
            "3 6\n",
            "3 7\n",
            "1 2 3 4 5 6 7 \n"
          ]
        }
      ]
    }
  ]
}