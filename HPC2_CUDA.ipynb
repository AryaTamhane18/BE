{
  "nbformat": 4,
  "nbformat_minor": 0,
  "metadata": {
    "colab": {
      "provenance": []
    },
    "kernelspec": {
      "name": "python3",
      "display_name": "Python 3"
    },
    "language_info": {
      "name": "python"
    }
  },
  "cells": [
    {
      "cell_type": "code",
      "execution_count": 5,
      "metadata": {
        "colab": {
          "base_uri": "https://localhost:8080/"
        },
        "id": "CfucMfCN8A6k",
        "outputId": "afe62a56-98c3-4675-c3ff-e8f6bd4aa7f8"
      },
      "outputs": [
        {
          "output_type": "stream",
          "name": "stdout",
          "text": [
            "Overwriting bu.cu\n"
          ]
        }
      ],
      "source": [
        "%%writefile bu.cu\n",
        "#include <iostream>\n",
        "#include <vector>\n",
        "#include <cstdlib>  // For rand()\n",
        "#include <ctime>    // For clock()\n",
        "#include <sstream>  // For stringstream\n",
        "#include <string>   // For string\n",
        "\n",
        "// Sequential Bubble Sort\n",
        "void bubbleSortSequential(int* arr, int size) {\n",
        "    for (int i = 0; i < size - 1; i++) {\n",
        "        for (int j = 0; j < size - i - 1; j++) {\n",
        "            if (arr[j] > arr[j + 1]) {\n",
        "                int temp = arr[j];\n",
        "                arr[j] = arr[j + 1];\n",
        "                arr[j + 1] = temp;\n",
        "            }\n",
        "        }\n",
        "    }\n",
        "}\n",
        "\n",
        "// Parallel Bubble Sort using CUDA\n",
        "__global__ void bubbleSortParallel(int* arr, int size) {\n",
        "    int tid = blockIdx.x * blockDim.x + threadIdx.x;\n",
        "\n",
        "    if (tid < size) {\n",
        "        for (int i = 0; i < size - 1; i++) {\n",
        "            for (int j = 0; j < size - i - 1; j++) {\n",
        "                if (arr[j] > arr[j + 1]) {\n",
        "                    int temp = arr[j];\n",
        "                    arr[j] = arr[j + 1];\n",
        "                    arr[j + 1] = temp;\n",
        "                }\n",
        "            }\n",
        "        }\n",
        "    }\n",
        "}\n",
        "\n",
        "int main() {\n",
        "    int size;\n",
        "    std::cout << \"Enter the number of elements: \";\n",
        "    std::cin >> size;\n",
        "\n",
        "    // Input elements from the user\n",
        "    std::cout << \"Enter the elements separated by spaces: \";\n",
        "    std::string input;\n",
        "    std::getline(std::cin >> std::ws, input);\n",
        "\n",
        "    std::vector<int> elements;\n",
        "    std::stringstream ss(input);\n",
        "    int num;\n",
        "    while (ss >> num) {\n",
        "        elements.push_back(num);\n",
        "    }\n",
        "\n",
        "    // Convert vector to array\n",
        "    int* arr = new int[size];\n",
        "    for (int i = 0; i < size; ++i) {\n",
        "        arr[i] = elements[i];\n",
        "    }\n",
        "\n",
        "    // Measure sequential bubble sort time\n",
        "    clock_t startSeqBubble = clock();\n",
        "    bubbleSortSequential(arr, size);\n",
        "    clock_t endSeqBubble = clock();\n",
        "    double timeSeqBubble = double(endSeqBubble - startSeqBubble) / CLOCKS_PER_SEC;\n",
        "\n",
        "    // Measure parallel bubble sort time\n",
        "    int* d_arr;\n",
        "    cudaMalloc(&d_arr, size * sizeof(int));\n",
        "    cudaMemcpy(d_arr, arr, size * sizeof(int), cudaMemcpyHostToDevice);\n",
        "\n",
        "    clock_t startParBubble = clock();\n",
        "    bubbleSortParallel<<<(size + 255) / 256, 256>>>(d_arr, size);\n",
        "    cudaDeviceSynchronize();\n",
        "    clock_t endParBubble = clock();\n",
        "    double timeParBubble = double(endParBubble - startParBubble) / CLOCKS_PER_SEC;\n",
        "\n",
        "    // Retrieve sorted array from device memory\n",
        "    cudaMemcpy(arr, d_arr, size * sizeof(int), cudaMemcpyDeviceToHost);\n",
        "\n",
        "    // Print execution times\n",
        "    std::cout << \"Sequential Bubble Sort Time: \" << timeSeqBubble << \" seconds\" << std::endl;\n",
        "    std::cout << \"Parallel Bubble Sort Time: \" << timeParBubble << \" seconds\" << std::endl;\n",
        "\n",
        "    // Print sorted array (only a few elements for brevity)\n",
        "    std::cout << \"Sorted Array (only showing first 10 elements): \";\n",
        "    for (int i = 0; i < std::min(size, 10); ++i) {\n",
        "        std::cout << arr[i] << \" \";\n",
        "    }\n",
        "    std::cout << std::endl;\n",
        "\n",
        "    // Free device memory\n",
        "    cudaFree(d_arr);\n",
        "\n",
        "    delete[] arr;\n",
        "\n",
        "    return 0;\n",
        "}\n"
      ]
    },
    {
      "cell_type": "code",
      "source": [
        "!nvcc bu.cu -o bu\n",
        "!./bu"
      ],
      "metadata": {
        "colab": {
          "base_uri": "https://localhost:8080/"
        },
        "id": "GPuMfdV08JZw",
        "outputId": "e0727c0a-d336-47e5-8b9e-814eb10725f3"
      },
      "execution_count": 6,
      "outputs": [
        {
          "output_type": "stream",
          "name": "stdout",
          "text": [
            "Enter the number of elements: 5\n",
            "Enter the elements separated by spaces: 3 4 8 7 1\n",
            "Sequential Bubble Sort Time: 2e-06 seconds\n",
            "Parallel Bubble Sort Time: 4e-06 seconds\n",
            "Sorted Array (only showing first 10 elements): 1 3 4 7 8 \n"
          ]
        }
      ]
    },
    {
      "cell_type": "code",
      "source": [
        "%%writefile merge.cu\n",
        "\n",
        "#include <iostream>\n",
        "#include <vector>\n",
        "#include <chrono>\n",
        "#include <cuda_runtime.h>\n",
        "\n",
        "// CUDA kernel for Bubble Sort\n",
        "__global__ void bubble_sort(int* d_arr, int size) {\n",
        "    int idx = blockIdx.x * blockDim.x + threadIdx.x; // Thread index\n",
        "    for (int i = 0; i < size - 1; i++) {\n",
        "        int j = idx + i; // Offset to perform the bubble sort step\n",
        "        if (j < size - 1 && d_arr[j] > d_arr[j + 1]) { // Swap if out of order\n",
        "            int temp = d_arr[j];\n",
        "            d_arr[j] = d_arr[j + 1];\n",
        "            d_arr[j + 1] = temp;\n",
        "        }\n",
        "        __syncthreads(); // Synchronize threads within block\n",
        "    }\n",
        "}\n",
        "\n",
        "// Function for Bubble Sort on CPU\n",
        "void bubble_sort_cpu(int* arr, int size) {\n",
        "    for (int i = 0; i < size - 1; i++) {\n",
        "        for (int j = 0; j < size - 1 - i; j++) {\n",
        "            if (arr[j] > arr[j + 1]) { // Swap if out of order\n",
        "                int temp = arr[j];\n",
        "                arr[j] = arr[j + 1];\n",
        "                arr[j + 1] = temp;\n",
        "            }\n",
        "        }\n",
        "    }\n",
        "}\n",
        "\n",
        "int main() {\n",
        "    // Test data\n",
        "    int h_arr[] = {64, 34, 25, 12, 22, 11, 90};\n",
        "    int size = sizeof(h_arr) / sizeof(h_arr[0]);\n",
        "\n",
        "    // Bubble Sort on CPU\n",
        "    auto start = std::chrono::high_resolution_clock::now();\n",
        "    bubble_sort_cpu(h_arr, size);\n",
        "    auto end = std::chrono::high_resolution_clock::now();\n",
        "    std::chrono::duration<double> duration = end - start;\n",
        "    std::cout << \"Sequential Merge Sort took \" << duration.count() << \" seconds\\n\";\n",
        "\n",
        "    // Copying data to the device for parallel Bubble Sort\n",
        "    int* d_arr;\n",
        "    cudaMalloc(&d_arr, size * sizeof(int));\n",
        "    cudaMemcpy(d_arr, h_arr, size * sizeof(int), cudaMemcpyHostToDevice);\n",
        "\n",
        "    // Bubble Sort on GPU\n",
        "    start = std::chrono::high_resolution_clock::now();\n",
        "    int blockSize = 256; // Threads per block\n",
        "    int gridSize = (size + blockSize - 1) / blockSize; // Blocks\n",
        "    bubble_sort<<<gridSize, blockSize>>>(d_arr, size);\n",
        "    cudaMemcpy(h_arr, d_arr, size * sizeof(int), cudaMemcpyDeviceToHost); // Copy back to host\n",
        "    end = std::chrono::high_resolution_clock::now();\n",
        "    duration = end - start;\n",
        "    std::cout << \"Parallel Merge Sort took \" << duration.count() << \" seconds\\n\";\n",
        "\n",
        "    // Display sorted array\n",
        "    std::cout << \"Sorted Array: \";\n",
        "    for (int i = 0; i < size; i++) {\n",
        "        std::cout << h_arr[i] << \" \";\n",
        "    }\n",
        "    std::cout << std::endl;\n",
        "\n",
        "    // Free device memory\n",
        "    cudaFree(d_arr);\n",
        "\n",
        "    return 0;\n",
        "}"
      ],
      "metadata": {
        "colab": {
          "base_uri": "https://localhost:8080/"
        },
        "id": "BEe3InIY9xHd",
        "outputId": "b298d487-dfc6-44f6-d623-ab657ea11177"
      },
      "execution_count": 18,
      "outputs": [
        {
          "output_type": "stream",
          "name": "stdout",
          "text": [
            "Writing merge.cu\n"
          ]
        }
      ]
    },
    {
      "cell_type": "code",
      "source": [
        "!nvcc merge.cu -o merge\n",
        "!./merge"
      ],
      "metadata": {
        "colab": {
          "base_uri": "https://localhost:8080/"
        },
        "id": "NPsSfdLj-Gva",
        "outputId": "a07e51b7-c679-4eb6-bb54-307630b29019"
      },
      "execution_count": 21,
      "outputs": [
        {
          "output_type": "stream",
          "name": "stdout",
          "text": [
            "Sequential Merge Sort took 5.18e-07 seconds\n",
            "Parallel Merge Sort took 2.189e-06 seconds\n",
            "Sorted Array: 11 12 22 25 34 64 90 \n"
          ]
        }
      ]
    }
  ]
}